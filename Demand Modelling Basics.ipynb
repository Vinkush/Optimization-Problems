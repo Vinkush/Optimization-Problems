{
 "cells": [
  {
   "cell_type": "markdown",
   "metadata": {},
   "source": [
    "### Modules"
   ]
  },
  {
   "cell_type": "code",
   "execution_count": 1,
   "metadata": {},
   "outputs": [],
   "source": [
    "import pandas as pd\n",
    "import numpy as np\n",
    "import matplotlib.pyplot as plt\n",
    "import pulp\n",
    "import seaborn as sns\n",
    "from scipy import stats\n",
    "\n",
    "sns.set()"
   ]
  },
  {
   "cell_type": "markdown",
   "metadata": {},
   "source": [
    "### Data Analysis"
   ]
  },
  {
   "cell_type": "code",
   "execution_count": 2,
   "metadata": {},
   "outputs": [
    {
     "data": {
      "text/html": [
       "<div>\n",
       "<style scoped>\n",
       "    .dataframe tbody tr th:only-of-type {\n",
       "        vertical-align: middle;\n",
       "    }\n",
       "\n",
       "    .dataframe tbody tr th {\n",
       "        vertical-align: top;\n",
       "    }\n",
       "\n",
       "    .dataframe thead th {\n",
       "        text-align: right;\n",
       "    }\n",
       "</style>\n",
       "<table border=\"1\" class=\"dataframe\">\n",
       "  <thead>\n",
       "    <tr style=\"text-align: right;\">\n",
       "      <th></th>\n",
       "      <th>date</th>\n",
       "      <th>sales</th>\n",
       "      <th>price</th>\n",
       "    </tr>\n",
       "  </thead>\n",
       "  <tbody>\n",
       "    <tr>\n",
       "      <th>0</th>\n",
       "      <td>2021-01-01</td>\n",
       "      <td>1031</td>\n",
       "      <td>1.21</td>\n",
       "    </tr>\n",
       "    <tr>\n",
       "      <th>1</th>\n",
       "      <td>2021-01-02</td>\n",
       "      <td>2969</td>\n",
       "      <td>1.18</td>\n",
       "    </tr>\n",
       "    <tr>\n",
       "      <th>2</th>\n",
       "      <td>2021-01-03</td>\n",
       "      <td>2419</td>\n",
       "      <td>1.23</td>\n",
       "    </tr>\n",
       "    <tr>\n",
       "      <th>3</th>\n",
       "      <td>2021-01-04</td>\n",
       "      <td>2525</td>\n",
       "      <td>1.20</td>\n",
       "    </tr>\n",
       "    <tr>\n",
       "      <th>4</th>\n",
       "      <td>2021-01-05</td>\n",
       "      <td>2517</td>\n",
       "      <td>1.19</td>\n",
       "    </tr>\n",
       "  </tbody>\n",
       "</table>\n",
       "</div>"
      ],
      "text/plain": [
       "        date  sales  price\n",
       "0 2021-01-01   1031   1.21\n",
       "1 2021-01-02   2969   1.18\n",
       "2 2021-01-03   2419   1.23\n",
       "3 2021-01-04   2525   1.20\n",
       "4 2021-01-05   2517   1.19"
      ]
     },
     "execution_count": 2,
     "metadata": {},
     "output_type": "execute_result"
    }
   ],
   "source": [
    "# Read data\n",
    "dfSales = pd.read_csv(\"avocado_sales.csv\")\n",
    "dfSales[\"date\"] = pd.to_datetime(dfSales[\"date\"])\n",
    "dfSales.head()"
   ]
  },
  {
   "cell_type": "code",
   "execution_count": 3,
   "metadata": {},
   "outputs": [
    {
     "data": {
      "text/html": [
       "<div>\n",
       "<style scoped>\n",
       "    .dataframe tbody tr th:only-of-type {\n",
       "        vertical-align: middle;\n",
       "    }\n",
       "\n",
       "    .dataframe tbody tr th {\n",
       "        vertical-align: top;\n",
       "    }\n",
       "\n",
       "    .dataframe thead th {\n",
       "        text-align: right;\n",
       "    }\n",
       "</style>\n",
       "<table border=\"1\" class=\"dataframe\">\n",
       "  <thead>\n",
       "    <tr style=\"text-align: right;\">\n",
       "      <th></th>\n",
       "      <th>sales</th>\n",
       "      <th>price</th>\n",
       "    </tr>\n",
       "  </thead>\n",
       "  <tbody>\n",
       "    <tr>\n",
       "      <th>count</th>\n",
       "      <td>63.000000</td>\n",
       "      <td>63.000000</td>\n",
       "    </tr>\n",
       "    <tr>\n",
       "      <th>mean</th>\n",
       "      <td>2029.047619</td>\n",
       "      <td>1.199048</td>\n",
       "    </tr>\n",
       "    <tr>\n",
       "      <th>std</th>\n",
       "      <td>598.363101</td>\n",
       "      <td>0.010733</td>\n",
       "    </tr>\n",
       "    <tr>\n",
       "      <th>min</th>\n",
       "      <td>735.000000</td>\n",
       "      <td>1.180000</td>\n",
       "    </tr>\n",
       "    <tr>\n",
       "      <th>25%</th>\n",
       "      <td>1716.500000</td>\n",
       "      <td>1.190000</td>\n",
       "    </tr>\n",
       "    <tr>\n",
       "      <th>50%</th>\n",
       "      <td>2083.000000</td>\n",
       "      <td>1.200000</td>\n",
       "    </tr>\n",
       "    <tr>\n",
       "      <th>75%</th>\n",
       "      <td>2402.500000</td>\n",
       "      <td>1.210000</td>\n",
       "    </tr>\n",
       "    <tr>\n",
       "      <th>max</th>\n",
       "      <td>3421.000000</td>\n",
       "      <td>1.230000</td>\n",
       "    </tr>\n",
       "  </tbody>\n",
       "</table>\n",
       "</div>"
      ],
      "text/plain": [
       "             sales      price\n",
       "count    63.000000  63.000000\n",
       "mean   2029.047619   1.199048\n",
       "std     598.363101   0.010733\n",
       "min     735.000000   1.180000\n",
       "25%    1716.500000   1.190000\n",
       "50%    2083.000000   1.200000\n",
       "75%    2402.500000   1.210000\n",
       "max    3421.000000   1.230000"
      ]
     },
     "execution_count": 3,
     "metadata": {},
     "output_type": "execute_result"
    }
   ],
   "source": [
    "# Descriptive statistics\n",
    "dfSales.describe()"
   ]
  },
  {
   "cell_type": "code",
   "execution_count": 4,
   "metadata": {},
   "outputs": [
    {
     "data": {
      "image/png": "[encoded data removed]",
      "text/plain": [
       "<Figure size 432x288 with 1 Axes>"
      ]
     },
     "metadata": {},
     "output_type": "display_data"
    }
   ],
   "source": [
    "# Time series data of sales\n",
    "sns.lineplot(x=\"date\", y=\"sales\", data=dfSales)\n",
    "plt.xticks(rotation=70)\n",
    "plt.show()"
   ]
  },
  {
   "cell_type": "code",
   "execution_count": 5,
   "metadata": {},
   "outputs": [
    {
     "data": {
      "image/png": "[encoded data removed]",
      "text/plain": [
       "<Figure size 432x288 with 1 Axes>"
      ]
     },
     "metadata": {},
     "output_type": "display_data"
    }
   ],
   "source": [
    "# Demand distribution\n",
    "plt.hist(dfSales[\"sales\"])\n",
    "plt.xlabel(\"Residual\")\n",
    "plt.ylabel(\"Frequency\")\n",
    "plt.show()"
   ]
  },
  {
   "cell_type": "markdown",
   "metadata": {},
   "source": [
    "### Deterministic model\n",
    "\n",
    "The deterministic model is typically written in terms of the averages (expectations) of the demand, the common uncertain element. \n",
    "\n",
    "In our particular problem for this class, we do not need to formulate a mixed-integer linear program because the solution of the deterministic model is straightforward (which is it?)"
   ]
  },
  {
   "cell_type": "code",
   "execution_count": 6,
   "metadata": {},
   "outputs": [],
   "source": [
    "# Picking the average\n",
    "z = dfSales[\"sales\"].mean()"
   ]
  },
  {
   "cell_type": "code",
   "execution_count": 7,
   "metadata": {},
   "outputs": [],
   "source": [
    "# Function to evaluate the cost of the solution based on history (counterfactual)\n",
    "def solcost(x):\n",
    "    numsamples = dfSales.shape[0]\n",
    "    return  (\n",
    "        (1.0/numsamples) * \n",
    "            sum( [1.2 * max(d - x, 0) + 0.25 * max(x - d, 0) for d in dfSales[\"sales\"] ] )\n",
    "    )"
   ]
  },
  {
   "cell_type": "code",
   "execution_count": 8,
   "metadata": {},
   "outputs": [
    {
     "name": "stdout",
     "output_type": "stream",
     "text": [
      "Solution cost: 334.8688964474678\n"
     ]
    }
   ],
   "source": [
    "print(\"Solution cost:\", solcost(z))"
   ]
  },
  {
   "cell_type": "code",
   "execution_count": 9,
   "metadata": {},
   "outputs": [
    {
     "data": {
      "image/png": "[encoded data removed]",
      "text/plain": [
       "<Figure size 432x288 with 1 Axes>"
      ]
     },
     "metadata": {},
     "output_type": "display_data"
    }
   ],
   "source": [
    "# Checking the residuals (p.s.: ideally you would do out-of-sample)\n",
    "residuals = [ d - z for d in dfSales[\"sales\"] ]\n",
    "\n",
    "# Residual distribution\n",
    "plt.hist(residuals)\n",
    "plt.xlabel(\"Residual\")\n",
    "plt.ylabel(\"Frequency\")\n",
    "plt.show()"
   ]
  },
  {
   "cell_type": "code",
   "execution_count": 10,
   "metadata": {},
   "outputs": [
    {
     "name": "stdout",
     "output_type": "stream",
     "text": [
      "mean residual: 1.804552979708191e-14\n",
      "std residual: 593.5951917769216\n"
     ]
    }
   ],
   "source": [
    "# Residual stats\n",
    "print( \"mean residual:\", np.mean(residuals) )\n",
    "print( \"std residual:\", np.std(residuals) )"
   ]
  },
  {
   "cell_type": "markdown",
   "metadata": {},
   "source": [
    "### Non-parametric formulation"
   ]
  },
  {
   "cell_type": "markdown",
   "metadata": {},
   "source": [
    "<b>Variables</b>"
   ]
  },
  {
   "cell_type": "code",
   "execution_count": 11,
   "metadata": {},
   "outputs": [],
   "source": [
    "# Import PuLP modules\n",
    "import pulp\n",
    "\n",
    "# Initialize model and objective sense\n",
    "nonparamModel = pulp.LpProblem(name=\"NonParametric\", sense=pulp.LpMinimize)\n",
    "\n",
    "# Our main decision variable: z\n",
    "zvar = pulp.LpVariable(\"z\", lowBound=0.0, cat=pulp.LpContinuous)\n",
    "\n",
    "# Sample the dataset\n",
    "samples = range(0, dfSales.shape[0])\n",
    "\n",
    "# Demand loss and extra supply variables per possible scenario (represented by the samples)\n",
    "lvar = pulp.LpVariable.dict(\"l\", samples, lowBound=0.0)\n",
    "svar = pulp.LpVariable.dict(\"s\", samples, lowBound=0.0)"
   ]
  },
  {
   "cell_type": "markdown",
   "metadata": {},
   "source": [
    "<b>Constraints</b>"
   ]
  },
  {
   "cell_type": "code",
   "execution_count": 12,
   "metadata": {},
   "outputs": [],
   "source": [
    "# Create constraints\n",
    "sales = np.array(dfSales[\"sales\"])\n",
    "\n",
    "for s in samples:\n",
    "    # Demand loss\n",
    "    nonparamModel += ( lvar[s] >= sales[s] - zvar )\n",
    "    # Extra supply\n",
    "    nonparamModel += ( svar[s] >= zvar - sales[s] )"
   ]
  },
  {
   "cell_type": "markdown",
   "metadata": {},
   "source": [
    "<b>Objective Function</b>"
   ]
  },
  {
   "cell_type": "code",
   "execution_count": 13,
   "metadata": {},
   "outputs": [],
   "source": [
    "# Objective function\n",
    "r = 1.20\n",
    "c = 0.25 \n",
    "obj = pulp.lpSum([ r * lvar[s] for s in samples ])\n",
    "obj += pulp.lpSum([ c * svar[s] for s in samples ])\n",
    "\n",
    "# Add objective to model\n",
    "nonparamModel += 1/len(samples) * obj"
   ]
  },
  {
   "cell_type": "markdown",
   "metadata": {},
   "source": [
    "<b>Solution</b>"
   ]
  },
  {
   "cell_type": "code",
   "execution_count": 14,
   "metadata": {},
   "outputs": [
    {
     "name": "stdout",
     "output_type": "stream",
     "text": [
      "Status: Optimal\n"
     ]
    }
   ],
   "source": [
    "# Write LP to file (optional, but often good to find errors)\n",
    "nonparamModel.writeLP(\"nonparam.lp\")\n",
    "\n",
    "# Solve model\n",
    "nonparamModel.solve()\n",
    "print(\"Status:\", pulp.LpStatus[nonparamModel.status])"
   ]
  },
  {
   "cell_type": "markdown",
   "metadata": {},
   "source": [
    "<b>Analyzing the solution</b>"
   ]
  },
  {
   "cell_type": "code",
   "execution_count": 15,
   "metadata": {},
   "outputs": [
    {
     "name": "stdout",
     "output_type": "stream",
     "text": [
      "Expected value: 218.16825396825396\n"
     ]
    }
   ],
   "source": [
    "# Expected cost:\n",
    "expectedCost = pulp.value(nonparamModel.objective)\n",
    "print(\"Expected value: \" + str(expectedCost))"
   ]
  },
  {
   "cell_type": "code",
   "execution_count": 16,
   "metadata": {},
   "outputs": [
    {
     "data": {
      "text/plain": [
       "2518.0"
      ]
     },
     "execution_count": 16,
     "metadata": {},
     "output_type": "execute_result"
    }
   ],
   "source": [
    "# Optimal \"z\"\n",
    "z = zvar.value()\n",
    "z"
   ]
  },
  {
   "cell_type": "code",
   "execution_count": 17,
   "metadata": {},
   "outputs": [
    {
     "name": "stdout",
     "output_type": "stream",
     "text": [
      "Solution cost: 218.16825396825396\n"
     ]
    }
   ],
   "source": [
    "# Notice that the expected objective should match the optimal objective above\n",
    "print(\"Solution cost:\", solcost(z))"
   ]
  },
  {
   "cell_type": "code",
   "execution_count": 18,
   "metadata": {},
   "outputs": [
    {
     "data": {
      "text/plain": [
       "2029.047619047619"
      ]
     },
     "execution_count": 18,
     "metadata": {},
     "output_type": "execute_result"
    }
   ],
   "source": [
    "# What did we get before?\n",
    "dfSales[\"sales\"].mean()"
   ]
  },
  {
   "cell_type": "code",
   "execution_count": 19,
   "metadata": {},
   "outputs": [
    {
     "data": {
      "image/png": "[encoded data removed]",
      "text/plain": [
       "<Figure size 432x288 with 1 Axes>"
      ]
     },
     "metadata": {},
     "output_type": "display_data"
    }
   ],
   "source": [
    "# Analyze residuals of this new solution\n",
    "residuals = [ d - z for d in dfSales[\"sales\"] ]\n",
    "plt.hist(residuals)\n",
    "plt.xlabel(\"Residual\")\n",
    "plt.ylabel(\"Frequency\")\n",
    "plt.show()"
   ]
  },
  {
   "cell_type": "code",
   "execution_count": 20,
   "metadata": {},
   "outputs": [
    {
     "name": "stdout",
     "output_type": "stream",
     "text": [
      "mean residual: -488.95238095238096\n",
      "std residual: 593.5951917769216\n"
     ]
    }
   ],
   "source": [
    "# Residual stats\n",
    "print( \"mean residual:\", np.mean(residuals) )\n",
    "print( \"std residual:\", np.std(residuals) )"
   ]
  },
  {
   "cell_type": "markdown",
   "metadata": {},
   "source": [
    "<b>Question:</b> Is this a better solution? Or worse? Why do you think the model decreased the mean residual?"
   ]
  },
  {
   "cell_type": "markdown",
   "metadata": {},
   "source": [
    "### Parametric formulation"
   ]
  },
  {
   "cell_type": "code",
   "execution_count": 21,
   "metadata": {},
   "outputs": [
    {
     "data": {
      "image/png": "[encoded data removed]",
      "text/plain": [
       "<Figure size 432x288 with 1 Axes>"
      ]
     },
     "metadata": {},
     "output_type": "display_data"
    }
   ],
   "source": [
    "# Analyzing demand distribution\n",
    "dfSales[\"sales\"].hist(bins=8)\n",
    "plt.xlabel(\"Demand\")\n",
    "plt.ylabel(\"Frequency\")\n",
    "plt.show()"
   ]
  },
  {
   "cell_type": "markdown",
   "metadata": {},
   "source": [
    "Looks like a Normal. Maybe one extra test can help us gather more evidence"
   ]
  },
  {
   "cell_type": "code",
   "execution_count": 22,
   "metadata": {},
   "outputs": [
    {
     "data": {
      "text/plain": [
       "NormaltestResult(statistic=0.07205007319854305, pvalue=0.9646161424729848)"
      ]
     },
     "execution_count": 22,
     "metadata": {},
     "output_type": "execute_result"
    }
   ],
   "source": [
    "stats.normaltest(dfSales[\"sales\"])"
   ]
  },
  {
   "cell_type": "markdown",
   "metadata": {},
   "source": [
    "Computing the <b>optimal</b> (leveraging problem structure)"
   ]
  },
  {
   "cell_type": "code",
   "execution_count": 23,
   "metadata": {},
   "outputs": [
    {
     "data": {
      "text/plain": [
       "2594.3030453984693"
      ]
     },
     "execution_count": 23,
     "metadata": {},
     "output_type": "execute_result"
    }
   ],
   "source": [
    "# What is the optimal?\n",
    "salesDist = stats.norm(dfSales[\"sales\"].mean(), dfSales[\"sales\"].std())\n",
    "zopt = salesDist.ppf( r/(r+c) )\n",
    "zopt"
   ]
  },
  {
   "cell_type": "code",
   "execution_count": 24,
   "metadata": {},
   "outputs": [
    {
     "name": "stdout",
     "output_type": "stream",
     "text": [
      "Solution cost: 224.51344530526057\n"
     ]
    }
   ],
   "source": [
    "# Let's check the solution cost - why is it larger than before if optimal?\n",
    "print(\"Solution cost:\", solcost(zopt))"
   ]
  },
  {
   "cell_type": "code",
   "execution_count": 25,
   "metadata": {},
   "outputs": [
    {
     "data": {
      "image/png": "[encoded data removed]",
      "text/plain": [
       "<Figure size 432x288 with 1 Axes>"
      ]
     },
     "metadata": {},
     "output_type": "display_data"
    }
   ],
   "source": [
    "# Analyze residuals\n",
    "residuals = [ d - zopt for d in dfSales[\"sales\"] ]\n",
    "plt.hist(residuals)\n",
    "plt.xlabel(\"Residual\")\n",
    "plt.ylabel(\"Frequency\")\n",
    "plt.show()"
   ]
  }
 ],
 "metadata": {
  "kernelspec": {
   "display_name": "Python 3",
   "language": "python",
   "name": "python3"
  },
  "language_info": {
   "codemirror_mode": {
    "name": "ipython",
    "version": 3
   },
   "file_extension": ".py",
   "mimetype": "text/x-python",
   "name": "python",
   "nbconvert_exporter": "python",
   "pygments_lexer": "ipython3",
   "version": "3.7.7"
  }
 },
 "nbformat": 4,
 "nbformat_minor": 5
}
