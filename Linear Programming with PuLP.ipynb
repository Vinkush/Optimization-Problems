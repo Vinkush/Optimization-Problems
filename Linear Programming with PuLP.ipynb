{
 "cells": [
  {
   "cell_type": "markdown",
   "metadata": {},
   "source": [
    "### Modules\n",
    "\n",
    "Importing the basic modules needed for both the problems"
   ]
  },
  {
   "cell_type": "code",
   "execution_count": 1,
   "metadata": {},
   "outputs": [],
   "source": [
    "#modules\n",
    "import pandas as pd\n",
    "import numpy as np\n",
    "import matplotlib.pyplot as plt\n",
    "from scipy import stats\n",
    "\n",
    "# Import PuLP modules (for linear programming)\n",
    "import pulp\n",
    "\n",
    "# Initialize seaborn (for plotting)\n",
    "import seaborn as sns\n",
    "sns.set()"
   ]
  },
  {
   "cell_type": "markdown",
   "metadata": {},
   "source": [
    "### Problem 1"
   ]
  },
  {
   "cell_type": "markdown",
   "metadata": {},
   "source": [
    "We are interested in solving the following <b>linear programming model</b>:\n",
    "\n",
    "\\begin{align}\n",
    "\\textbf{max}_{x,y}  \n",
    "    \\quad& \n",
    "        200x + 150y\\\\\n",
    "\\textbf{s.t.}\n",
    "    \\quad&\n",
    "        4x  +  2y \\le 40, \\\\\n",
    "    \\quad&\n",
    "        x + y \\le 500, \\\\\n",
    "    \\quad&\n",
    "        x,y \\ge 0\n",
    "\\end{align}"
   ]
  },
  {
   "cell_type": "markdown",
   "metadata": {},
   "source": [
    "<b>Variables</b>"
   ]
  },
  {
   "cell_type": "code",
   "execution_count": 8,
   "metadata": {},
   "outputs": [],
   "source": [
    "# Initialize model and objective sense\n",
    "model = pulp.LpProblem(name=\"Problem_1\", sense=pulp.LpMaximize)\n",
    "\n",
    "# Our two decision variables: x and y\n",
    "x = pulp.LpVariable(\"x\", lowBound=0.0, cat=pulp.LpContinuous)\n",
    "y = pulp.LpVariable(\"y\", lowBound=0.0, cat=pulp.LpContinuous)"
   ]
  },
  {
   "cell_type": "markdown",
   "metadata": {},
   "source": [
    "<b>Constraints</b>"
   ]
  },
  {
   "cell_type": "code",
   "execution_count": 9,
   "metadata": {},
   "outputs": [],
   "source": [
    "# Create constraints\n",
    "model += ( 4*x + 2*y <= 40 )\n",
    "model += ( x + y <= 500 )"
   ]
  },
  {
   "cell_type": "markdown",
   "metadata": {},
   "source": [
    "<b>Objective Function</b>"
   ]
  },
  {
   "cell_type": "code",
   "execution_count": 10,
   "metadata": {},
   "outputs": [],
   "source": [
    "# Objective function\n",
    "model += ( 200*x + 150*y )"
   ]
  },
  {
   "cell_type": "markdown",
   "metadata": {},
   "source": [
    "<b>Solution</b>"
   ]
  },
  {
   "cell_type": "code",
   "execution_count": 11,
   "metadata": {},
   "outputs": [
    {
     "name": "stdout",
     "output_type": "stream",
     "text": [
      "Status: Optimal\n"
     ]
    }
   ],
   "source": [
    "# Write LP to file (optional, but often good to find errors)\n",
    "model.writeLP(\"Problem1.lp\")\n",
    "\n",
    "model.solve()\n",
    "print(\"Status:\", pulp.LpStatus[model.status])"
   ]
  },
  {
   "cell_type": "markdown",
   "metadata": {},
   "source": [
    "<b>Analyzing the solution</b>"
   ]
  },
  {
   "cell_type": "code",
   "execution_count": 12,
   "metadata": {},
   "outputs": [
    {
     "name": "stdout",
     "output_type": "stream",
     "text": [
      "Optimal value: 3000.0\n",
      "Optimal x: 0.0\n",
      "Optimal y: 20.0\n"
     ]
    }
   ],
   "source": [
    "# Optimal solution value\n",
    "optsol = pulp.value(model.objective)\n",
    "print(\"Optimal value: \" + str(optsol))\n",
    "\n",
    "# Optimal variable values\n",
    "optx = x.varValue\n",
    "opty = y.varValue\n",
    "\n",
    "print(\"Optimal x: \" + str(optx))\n",
    "print(\"Optimal y: \" + str(opty))"
   ]
  },
  {
   "cell_type": "code",
   "execution_count": 13,
   "metadata": {},
   "outputs": [
    {
     "data": {
      "text/plain": [
       "Problem_1:\n",
       "MAXIMIZE\n",
       "200*x + 150*y + 0\n",
       "SUBJECT TO\n",
       "_C1: 4 x + 2 y <= 40\n",
       "\n",
       "_C2: x + y <= 500\n",
       "\n",
       "VARIABLES\n",
       "x Continuous\n",
       "y Continuous"
      ]
     },
     "execution_count": 13,
     "metadata": {},
     "output_type": "execute_result"
    }
   ],
   "source": [
    "model"
   ]
  },
  {
   "cell_type": "markdown",
   "metadata": {},
   "source": [
    "### Problem 2"
   ]
  },
  {
   "cell_type": "markdown",
   "metadata": {},
   "source": [
    "We are interested in solving the following <b>linear programming model</b>:\n",
    "\n",
    "\\begin{align}\n",
    "\\textbf{min}_{x}  \n",
    "    \\quad& \n",
    "        5x + 10(3-x)^{+}\\\\\n",
    "\\textbf{s.t.}\n",
    "    \\quad&\n",
    "        x \\ge 0\n",
    "\\end{align}"
   ]
  },
  {
   "cell_type": "markdown",
   "metadata": {},
   "source": [
    "Since we cannot define the objective function in this manner, we <b>reformulate</b>:\n",
    "\n",
    "\\begin{align}\n",
    "\\textbf{min}_{x}  \n",
    "    \\quad& \n",
    "        5x + 10z\\\\\n",
    "\\textbf{s.t.}\n",
    "    \\quad&\n",
    "        z >= 3 - x, \\\\\n",
    "    \\quad&\n",
    "        x, z \\ge 0\n",
    "\\end{align}"
   ]
  },
  {
   "cell_type": "markdown",
   "metadata": {},
   "source": [
    "<b>Variables</b>"
   ]
  },
  {
   "cell_type": "code",
   "execution_count": 2,
   "metadata": {},
   "outputs": [],
   "source": [
    "# Initialize model and objective sense\n",
    "model = pulp.LpProblem(name=\"Problem_2\", sense=pulp.LpMinimize)\n",
    "\n",
    "# Our decision variable: x\n",
    "x = pulp.LpVariable(\"x\", lowBound=0.0, cat=pulp.LpContinuous)\n",
    "z = pulp.LpVariable(\"z\", lowBound=0.0, cat=pulp.LpContinuous)"
   ]
  },
  {
   "cell_type": "markdown",
   "metadata": {},
   "source": [
    "<b>Constraints</b>"
   ]
  },
  {
   "cell_type": "code",
   "execution_count": 3,
   "metadata": {},
   "outputs": [],
   "source": [
    "model += ( z >= (3-x) )"
   ]
  },
  {
   "cell_type": "markdown",
   "metadata": {},
   "source": [
    "<b>Objective Function</b>"
   ]
  },
  {
   "cell_type": "code",
   "execution_count": 4,
   "metadata": {},
   "outputs": [],
   "source": [
    "# Objective function\n",
    "model += ( 5*x + 10*z )"
   ]
  },
  {
   "cell_type": "markdown",
   "metadata": {},
   "source": [
    "<b>Solution</b>"
   ]
  },
  {
   "cell_type": "code",
   "execution_count": 6,
   "metadata": {},
   "outputs": [
    {
     "name": "stdout",
     "output_type": "stream",
     "text": [
      "Status: Optimal\n"
     ]
    }
   ],
   "source": [
    "# Write LP to file (optional, but often good to find errors)\n",
    "model.writeLP(\"Problem2.lp\")\n",
    "\n",
    "model.solve()\n",
    "print(\"Status:\", pulp.LpStatus[model.status])"
   ]
  },
  {
   "cell_type": "markdown",
   "metadata": {},
   "source": [
    "<b>Analyzing the solution</b>"
   ]
  },
  {
   "cell_type": "code",
   "execution_count": 7,
   "metadata": {},
   "outputs": [
    {
     "name": "stdout",
     "output_type": "stream",
     "text": [
      "Optimal value: 15.0\n",
      "Optimal x: 3.0\n",
      "Optimal z: 0.0\n"
     ]
    }
   ],
   "source": [
    "# Optimal solution value\n",
    "optsol = pulp.value(model.objective)\n",
    "print(\"Optimal value: \" + str(optsol))\n",
    "\n",
    "# Optimal variable values\n",
    "optx = x.varValue\n",
    "opty = z.varValue\n",
    "\n",
    "print(\"Optimal x: \" + str(optx))\n",
    "print(\"Optimal z: \" + str(opty))"
   ]
  },
  {
   "cell_type": "code",
   "execution_count": 5,
   "metadata": {},
   "outputs": [
    {
     "data": {
      "text/plain": [
       "Problem_2:\n",
       "MINIMIZE\n",
       "5*x + 10*z + 0\n",
       "SUBJECT TO\n",
       "_C1: x + z >= 3\n",
       "\n",
       "VARIABLES\n",
       "x Continuous\n",
       "z Continuous"
      ]
     },
     "execution_count": 5,
     "metadata": {},
     "output_type": "execute_result"
    }
   ],
   "source": [
    "model"
   ]
  },
  {
   "cell_type": "code",
   "execution_count": null,
   "metadata": {},
   "outputs": [],
   "source": []
  }
 ],
 "metadata": {
  "kernelspec": {
   "display_name": "Python 3",
   "language": "python",
   "name": "python3"
  },
  "language_info": {
   "codemirror_mode": {
    "name": "ipython",
    "version": 3
   },
   "file_extension": ".py",
   "mimetype": "text/x-python",
   "name": "python",
   "nbconvert_exporter": "python",
   "pygments_lexer": "ipython3",
   "version": "3.7.7"
  }
 },
 "nbformat": 4,
 "nbformat_minor": 5
}
