{
 "cells": [
  {
   "cell_type": "markdown",
   "metadata": {},
   "source": [
    "# Objective\n",
    "Assuming that the daily demand is drawn from a normal distribution, we try identify the sample size required to estimate the optimal solution. This gives us an understanding of the required minimal complexity of the Optimization problem."
   ]
  },
  {
   "cell_type": "markdown",
   "metadata": {},
   "source": [
    "### Load main modules"
   ]
  },
  {
   "cell_type": "code",
   "execution_count": 1,
   "metadata": {},
   "outputs": [],
   "source": [
    "import pandas as pd\n",
    "import numpy as np\n",
    "import matplotlib.pyplot as plt\n",
    "import seaborn as sns\n",
    "import pulp\n",
    "\n",
    "# Set seaborne\n",
    "sns.set()"
   ]
  },
  {
   "cell_type": "markdown",
   "metadata": {},
   "source": [
    "### Load data"
   ]
  },
  {
   "cell_type": "code",
   "execution_count": 2,
   "metadata": {},
   "outputs": [
    {
     "data": {
      "text/html": [
       "<div>\n",
       "<style scoped>\n",
       "    .dataframe tbody tr th:only-of-type {\n",
       "        vertical-align: middle;\n",
       "    }\n",
       "\n",
       "    .dataframe tbody tr th {\n",
       "        vertical-align: top;\n",
       "    }\n",
       "\n",
       "    .dataframe thead th {\n",
       "        text-align: right;\n",
       "    }\n",
       "</style>\n",
       "<table border=\"1\" class=\"dataframe\">\n",
       "  <thead>\n",
       "    <tr style=\"text-align: right;\">\n",
       "      <th></th>\n",
       "      <th>date</th>\n",
       "      <th>sales</th>\n",
       "      <th>price</th>\n",
       "    </tr>\n",
       "  </thead>\n",
       "  <tbody>\n",
       "    <tr>\n",
       "      <th>0</th>\n",
       "      <td>2021-01-01</td>\n",
       "      <td>1031</td>\n",
       "      <td>1.21</td>\n",
       "    </tr>\n",
       "    <tr>\n",
       "      <th>1</th>\n",
       "      <td>2021-01-02</td>\n",
       "      <td>2969</td>\n",
       "      <td>1.18</td>\n",
       "    </tr>\n",
       "    <tr>\n",
       "      <th>2</th>\n",
       "      <td>2021-01-03</td>\n",
       "      <td>2419</td>\n",
       "      <td>1.23</td>\n",
       "    </tr>\n",
       "    <tr>\n",
       "      <th>3</th>\n",
       "      <td>2021-01-04</td>\n",
       "      <td>2525</td>\n",
       "      <td>1.20</td>\n",
       "    </tr>\n",
       "    <tr>\n",
       "      <th>4</th>\n",
       "      <td>2021-01-05</td>\n",
       "      <td>2517</td>\n",
       "      <td>1.19</td>\n",
       "    </tr>\n",
       "    <tr>\n",
       "      <th>5</th>\n",
       "      <td>2021-01-06</td>\n",
       "      <td>3283</td>\n",
       "      <td>1.19</td>\n",
       "    </tr>\n",
       "    <tr>\n",
       "      <th>6</th>\n",
       "      <td>2021-01-07</td>\n",
       "      <td>1848</td>\n",
       "      <td>1.21</td>\n",
       "    </tr>\n",
       "    <tr>\n",
       "      <th>7</th>\n",
       "      <td>2021-01-08</td>\n",
       "      <td>1916</td>\n",
       "      <td>1.19</td>\n",
       "    </tr>\n",
       "    <tr>\n",
       "      <th>8</th>\n",
       "      <td>2021-01-09</td>\n",
       "      <td>2188</td>\n",
       "      <td>1.18</td>\n",
       "    </tr>\n",
       "    <tr>\n",
       "      <th>9</th>\n",
       "      <td>2021-01-10</td>\n",
       "      <td>1489</td>\n",
       "      <td>1.20</td>\n",
       "    </tr>\n",
       "  </tbody>\n",
       "</table>\n",
       "</div>"
      ],
      "text/plain": [
       "        date  sales  price\n",
       "0 2021-01-01   1031   1.21\n",
       "1 2021-01-02   2969   1.18\n",
       "2 2021-01-03   2419   1.23\n",
       "3 2021-01-04   2525   1.20\n",
       "4 2021-01-05   2517   1.19\n",
       "5 2021-01-06   3283   1.19\n",
       "6 2021-01-07   1848   1.21\n",
       "7 2021-01-08   1916   1.19\n",
       "8 2021-01-09   2188   1.18\n",
       "9 2021-01-10   1489   1.20"
      ]
     },
     "execution_count": 2,
     "metadata": {},
     "output_type": "execute_result"
    }
   ],
   "source": [
    "dfSales = pd.read_csv(\"avocado_sales.csv\")\n",
    "dfSales[\"date\"] = pd.to_datetime(dfSales[\"date\"])\n",
    "\n",
    "# Descriptive statistics\n",
    "dfSales.head(10)"
   ]
  },
  {
   "cell_type": "markdown",
   "metadata": {},
   "source": [
    "### Optimization model for quantity\n",
    "\n",
    "<b>Non-parametric formulation</b>\n",
    "\n",
    "The function <b>find_optimal_quantity</b> solves the non-parametric model for a given demand array"
   ]
  },
  {
   "cell_type": "code",
   "execution_count": 3,
   "metadata": {},
   "outputs": [],
   "source": [
    "# Find optimal quantity and optimal expected cost for a given sample size\n",
    "def find_optimal_quantity(demands):\n",
    "    # Generate demand sample indices\n",
    "    samples = range(0, len(demands))\n",
    "\n",
    "    # Initialize model and objective sense\n",
    "    nonparamModel = pulp.LpProblem(name=\"NonParametric\", sense=pulp.LpMinimize)\n",
    "\n",
    "    # Our main decision variable: z\n",
    "    zvar = pulp.LpVariable(\"z\", lowBound=0.0, cat=pulp.LpContinuous)\n",
    "\n",
    "    # Demand loss and extra supply variables    \n",
    "    lvar = pulp.LpVariable.dict(\"l\", samples, lowBound=0.0)\n",
    "    svar = pulp.LpVariable.dict(\"s\", samples, lowBound=0.0)\n",
    "\n",
    "    # Create constraints\n",
    "    for s in samples:\n",
    "        # Demand loss\n",
    "        nonparamModel += ( lvar[s] >= demands[s] - zvar )\n",
    "        # Extra supply\n",
    "        nonparamModel += ( svar[s] >= zvar - demands[s] )\n",
    "\n",
    "    # Objective function\n",
    "    r = 1.20\n",
    "    c = 0.25 \n",
    "    obj = pulp.lpSum([ r * lvar[s] for s in samples ])\n",
    "    obj += pulp.lpSum([ c * svar[s] for s in samples ])\n",
    "\n",
    "    # Add objective to model\n",
    "    nonparamModel += 1/len(samples) * obj\n",
    "\n",
    "    # Solve model\n",
    "    nonparamModel.solve()\n",
    "    if nonparamModel.status != pulp.constants.LpStatusOptimal:\n",
    "        print(\"Error: optimal solution NOT found - please check model!\")\n",
    "\n",
    "    # Expected value:\n",
    "    expectedCost = pulp.value(nonparamModel.objective)\n",
    "    #print(\"Expected value: \" + str(expectedCost))\n",
    "\n",
    "    # Optimal \"z\"\n",
    "    z = zvar.value()\n",
    "    \n",
    "    # Return list with optimal z and expected cost\n",
    "    return [z, expectedCost]"
   ]
  },
  {
   "cell_type": "markdown",
   "metadata": {},
   "source": [
    "### Samples from Normal\n",
    "\n",
    "As we have seen in class, the sales distribution is close to a Normal. We will create a Normal distribution with the same parameters to obtain multiple samples"
   ]
  },
  {
   "cell_type": "code",
   "execution_count": 4,
   "metadata": {},
   "outputs": [
    {
     "data": {
      "text/plain": [
       "array([3084.59145152, 2268.48692723, 2614.68831452, ..., 2338.32485897,\n",
       "       2009.34909106, 2805.78960127])"
      ]
     },
     "execution_count": 4,
     "metadata": {},
     "output_type": "execute_result"
    }
   ],
   "source": [
    "# Generate Normal distribution\n",
    "from scipy import stats\n",
    "salesdist = stats.norm(dfSales[\"sales\"].mean(), dfSales[\"sales\"].std())\n",
    "\n",
    "# Create demand samples (~10,000)\n",
    "demandsamples = salesdist.rvs(size=10000, random_state=0)\n",
    "demandsamples"
   ]
  },
  {
   "cell_type": "markdown",
   "metadata": {},
   "source": [
    "### Analysis of the approximation quality vs. sample size"
   ]
  },
  {
   "cell_type": "code",
   "execution_count": 5,
   "metadata": {},
   "outputs": [],
   "source": [
    "# Calculate optimal for different number of samples (up to 10,000 here)\n",
    "# It may take a while to run everything!\n",
    "\n",
    "samplesizes = range(2, 1000, 10)\n",
    "optz = []\n",
    "optcost = []\n",
    "for size in samplesizes:    \n",
    "    z, cost = find_optimal_quantity(demandsamples[0:size])\n",
    "    optz.append(z)\n",
    "    optcost.append(cost)"
   ]
  },
  {
   "cell_type": "code",
   "execution_count": 6,
   "metadata": {
    "scrolled": true
   },
   "outputs": [
    {
     "data": {
      "image/png": "[encoded data removed]",
      "text/plain": [
       "<Figure size 432x288 with 1 Axes>"
      ]
     },
     "metadata": {},
     "output_type": "display_data"
    }
   ],
   "source": [
    "# Plot - optimal solution\n",
    "plt.plot(samplesizes, optz)\n",
    "plt.xlabel(\"Number of samples\")\n",
    "plt.ylabel(\"Optimal z\")\n",
    "plt.title(\"Number of samples vs. Optimal z\")\n",
    "\n",
    "plt.show()"
   ]
  },
  {
   "cell_type": "code",
   "execution_count": 14,
   "metadata": {},
   "outputs": [
    {
     "data": {
      "text/plain": [
       "2546.0646"
      ]
     },
     "execution_count": 14,
     "metadata": {},
     "output_type": "execute_result"
    }
   ],
   "source": [
    "min(optz)"
   ]
  },
  {
   "cell_type": "markdown",
   "metadata": {},
   "source": [
    "As visible in the above plot, the optimal z fluctuates when the sample size is small. It also increases for a while but it starts saturating after number of samples>200. It hovers around 2613 at n = 220 and reaches a min of of 2546. This range is very close to the optimal z of 2594.\n",
    "Hence, a sample size of 220 would provide a good estimate of the optimal solution."
   ]
  },
  {
   "cell_type": "code",
   "execution_count": 7,
   "metadata": {},
   "outputs": [
    {
     "data": {
      "image/png": "[encoded data removed]",
      "text/plain": [
       "<Figure size 432x288 with 1 Axes>"
      ]
     },
     "metadata": {},
     "output_type": "display_data"
    }
   ],
   "source": [
    "# Plot - optimal cost\n",
    "plt.plot(samplesizes, optcost)\n",
    "plt.xlabel(\"Number of samples\")\n",
    "plt.ylabel(\"Optimal Cost\")\n",
    "plt.title(\"Number of samples vs. Optimal Cost\")\n",
    "\n",
    "plt.show()"
   ]
  },
  {
   "cell_type": "code",
   "execution_count": 17,
   "metadata": {},
   "outputs": [
    {
     "data": {
      "text/plain": [
       "230.21261740702707"
      ]
     },
     "execution_count": 17,
     "metadata": {},
     "output_type": "execute_result"
    }
   ],
   "source": [
    "optcost[22]"
   ]
  },
  {
   "cell_type": "code",
   "execution_count": 21,
   "metadata": {},
   "outputs": [
    {
     "data": {
      "text/plain": [
       "218.52624574888264"
      ]
     },
     "execution_count": 21,
     "metadata": {},
     "output_type": "execute_result"
    }
   ],
   "source": [
    "min(optcost[5:])"
   ]
  },
  {
   "cell_type": "markdown",
   "metadata": {},
   "source": [
    "Similar to the optimal z, the cost starts saturating after n = 220. It lies between 218 and 230 which contains the optimal cost of 221."
   ]
  }
 ],
 "metadata": {
  "kernelspec": {
   "display_name": "Python 3",
   "language": "python",
   "name": "python3"
  },
  "language_info": {
   "codemirror_mode": {
    "name": "ipython",
    "version": 3
   },
   "file_extension": ".py",
   "mimetype": "text/x-python",
   "name": "python",
   "nbconvert_exporter": "python",
   "pygments_lexer": "ipython3",
   "version": "3.7.7"
  }
 },
 "nbformat": 4,
 "nbformat_minor": 4
}
